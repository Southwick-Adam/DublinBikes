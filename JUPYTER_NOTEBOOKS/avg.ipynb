{
 "cells": [
  {
   "cell_type": "code",
   "execution_count": 1,
   "metadata": {},
   "outputs": [],
   "source": [
    "import pandas as pd\n",
    "import matplotlib.pyplot as plt\n",
    "import numpy as np\n",
    "import json"
   ]
  },
  {
   "cell_type": "code",
   "execution_count": 2,
   "metadata": {},
   "outputs": [],
   "source": [
    "df = pd.read_json('data.json')"
   ]
  },
  {
   "cell_type": "code",
   "execution_count": 3,
   "metadata": {},
   "outputs": [],
   "source": [
    "avg_dict = {}\n",
    "for n in range(1,118):\n",
    "    df_stand = df[df[\"station_id\"] == n]\n",
    "    bigArr = []\n",
    "    for i in range(7):\n",
    "        dayArr = []\n",
    "        for j in range(24):\n",
    "            avg = np.mean(df_stand[(df_stand[\"day\"] == i) & (df_stand[\"hour\"] == j)])\n",
    "            dayArr.append(round(avg, 1))\n",
    "        bigArr.append(dayArr)\n",
    "    avg_dict[n] = bigArr"
   ]
  },
  {
   "cell_type": "code",
   "execution_count": 4,
   "metadata": {},
   "outputs": [],
   "source": [
    "json_file_path = \"bike_avg.json\"\n",
    "\n",
    "# Write the dictionary to a JSON file\n",
    "with open(json_file_path, \"w\") as json_file:\n",
    "    json.dump(avg_dict, json_file, indent=4)"
   ]
  }
 ],
 "metadata": {
  "kernelspec": {
   "display_name": "software_eng",
   "language": "python",
   "name": "python3"
  },
  "language_info": {
   "codemirror_mode": {
    "name": "ipython",
    "version": 3
   },
   "file_extension": ".py",
   "mimetype": "text/x-python",
   "name": "python",
   "nbconvert_exporter": "python",
   "pygments_lexer": "ipython3",
   "version": "3.11.8"
  }
 },
 "nbformat": 4,
 "nbformat_minor": 2
}
